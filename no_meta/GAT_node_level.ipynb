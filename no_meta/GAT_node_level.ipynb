{
 "cells": [
  {
   "cell_type": "code",
   "execution_count": 78,
   "metadata": {},
   "outputs": [],
   "source": [
    "import dgl\n",
    "%matplotlib inline\n",
    "import networkx as nx \n",
    "import numpy as np\n",
    "import pandas as pd\n",
    "from sklearn.decomposition import PCA\n",
    "from sklearn.preprocessing import StandardScaler\n",
    "from sklearn.cluster import KMeans\n",
    "import os\n",
    "os.chdir('../graphwave/')\n",
    "\n",
    "import matplotlib.pyplot as plt\n",
    "import graphwave\n",
    "from graphwave.shapes import build_graph\n",
    "\n",
    "import dgl.function as fn\n",
    "import torch as th\n",
    "import torch.nn as nn\n",
    "import torch.nn.functional as F\n",
    "from dgl import DGLGraph\n",
    "\n",
    "width_basis = 200\n",
    "\n",
    "### 1. Choose the basis (cycle, torus or chain)\n",
    "basis_type = \"cycle\" \n",
    "\n",
    "### 2. Add the shapes \n",
    "n_shapes = 30  \n",
    "list_shapes = [[\"house\"]] * n_shapes + [[\"fan\"]] * n_shapes + [[\"star\"]] * n_shapes\n",
    "\n",
    "### 3. Pass all these parameters to the Graph Structure\n",
    "add_edges = 0 # random edges to add\n",
    "G, communities, _ , role_id = build_graph.build_structure(width_basis, basis_type, list_shapes, start=0,\n",
    "                                       add_random_edges=add_edges, plot=False,\n",
    "                                       savefig=False)\n",
    "d = dict(zip(np.unique(role_id), range(len(np.unique(role_id)))))\n",
    "labels = np.array([d[i] for i in role_id])"
   ]
  },
  {
   "cell_type": "code",
   "execution_count": 79,
   "metadata": {},
   "outputs": [
    {
     "data": {
      "text/plain": [
       "410"
      ]
     },
     "execution_count": 79,
     "metadata": {},
     "output_type": "execute_result"
    }
   ],
   "source": [
    "G.number_of_nodes()"
   ]
  },
  {
   "cell_type": "code",
   "execution_count": 80,
   "metadata": {},
   "outputs": [],
   "source": [
    "import torch\n",
    "import torch.nn as nn\n",
    "import dgl.function as fn\n",
    "from dgl.nn.pytorch import edge_softmax, GATConv\n",
    "\n",
    "\n",
    "class GAT(nn.Module):\n",
    "    def __init__(self,\n",
    "                 g,\n",
    "                 num_layers,\n",
    "                 in_dim,\n",
    "                 num_hidden,\n",
    "                 num_classes,\n",
    "                 heads,\n",
    "                 activation,\n",
    "                 feat_drop,\n",
    "                 attn_drop,\n",
    "                 negative_slope,\n",
    "                 residual):\n",
    "        super(GAT, self).__init__()\n",
    "        self.g = g\n",
    "        self.num_layers = num_layers\n",
    "        self.gat_layers = nn.ModuleList()\n",
    "        self.activation = activation\n",
    "        # input projection (no residual)\n",
    "        self.gat_layers.append(GATConv(\n",
    "            in_dim, num_hidden, heads[0],\n",
    "            feat_drop, attn_drop, negative_slope, False, self.activation))\n",
    "        # hidden layers\n",
    "        for l in range(1, num_layers):\n",
    "            # due to multi-head, the in_dim = num_hidden * num_heads\n",
    "            self.gat_layers.append(GATConv(\n",
    "                num_hidden * heads[l-1], num_hidden, heads[l],\n",
    "                feat_drop, attn_drop, negative_slope, residual, self.activation))\n",
    "        # output projection\n",
    "        self.gat_layers.append(GATConv(\n",
    "            num_hidden * heads[-2], num_classes, heads[-1],\n",
    "            feat_drop, attn_drop, negative_slope, residual, None))\n",
    "\n",
    "    def forward(self, inputs):\n",
    "        h = self.g.in_degrees().view(-1, 1).float()\n",
    "        #h = inputs\n",
    "        for l in range(self.num_layers):\n",
    "            h = self.gat_layers[l](self.g, h).flatten(1)\n",
    "        # output projection\n",
    "        logits = self.gat_layers[-1](self.g, h).mean(1)\n",
    "        return logits"
   ]
  },
  {
   "cell_type": "code",
   "execution_count": 81,
   "metadata": {},
   "outputs": [],
   "source": [
    "import torch\n",
    "labels = torch.tensor(labels)\n",
    "inputs = torch.eye(G.number_of_nodes())"
   ]
  },
  {
   "cell_type": "code",
   "execution_count": 82,
   "metadata": {},
   "outputs": [],
   "source": [
    "S = dgl.DGLGraph()\n",
    "S.from_networkx(G)\n",
    "S.ndata['h'] = inputs"
   ]
  },
  {
   "cell_type": "code",
   "execution_count": 83,
   "metadata": {},
   "outputs": [
    {
     "data": {
      "text/plain": [
       "torch.Size([410, 410])"
      ]
     },
     "execution_count": 83,
     "metadata": {},
     "output_type": "execute_result"
    }
   ],
   "source": [
    "inputs.shape"
   ]
  },
  {
   "cell_type": "code",
   "execution_count": 84,
   "metadata": {},
   "outputs": [],
   "source": [
    "np.random.seed(10)\n",
    "labeled_nodes = np.random.choice(list(range(G.number_of_nodes())), 100, replace = False)\n",
    "labels_train = labels[labeled_nodes]\n",
    "unlabelled_nodes = [i for i in list(range(G.number_of_nodes())) if i not in labeled_nodes]\n",
    "test_label = labels[unlabelled_nodes]"
   ]
  },
  {
   "cell_type": "code",
   "execution_count": 85,
   "metadata": {},
   "outputs": [
    {
     "data": {
      "text/plain": [
       "array([ 81, 247,   1, 170, 341, 274, 376,  65, 386, 149, 189, 164, 121,\n",
       "       293, 242, 152,  66, 151,  43, 384, 166, 192, 260,  88, 361, 305,\n",
       "        47, 323,  97, 298,  24, 100,  99, 288, 102, 126, 191, 400, 278,\n",
       "       241,   6, 147,  26, 362, 211,  56, 358, 101,  61, 276, 367, 389,\n",
       "        72,  37, 330, 183, 281, 207, 187,  12, 350, 223, 228, 105, 387,\n",
       "       110, 236, 259,  98, 222, 277, 258, 370, 266,  78, 113, 295, 316,\n",
       "       385, 163,  52, 372, 217, 227,  64,  27, 282, 300, 111, 297, 328,\n",
       "       109, 231, 208, 119, 275, 395,  91,  69, 352])"
      ]
     },
     "execution_count": 85,
     "metadata": {},
     "output_type": "execute_result"
    }
   ],
   "source": [
    "labeled_nodes"
   ]
  },
  {
   "cell_type": "code",
   "execution_count": 86,
   "metadata": {},
   "outputs": [
    {
     "name": "stdout",
     "output_type": "stream",
     "text": [
      "Epoch 0 | Loss: 4.6098\n",
      "Epoch 100 | Loss: 2.1906\n",
      "Epoch 200 | Loss: 2.1331\n",
      "Epoch 300 | Loss: 2.1165\n",
      "Epoch 400 | Loss: 2.1686\n",
      "Epoch 500 | Loss: 2.1144\n",
      "Epoch 600 | Loss: 2.1279\n",
      "Epoch 700 | Loss: 2.1324\n",
      "Epoch 800 | Loss: 2.1117\n",
      "Epoch 900 | Loss: 2.1806\n",
      "Epoch 1000 | Loss: 2.0348\n",
      "Epoch 1100 | Loss: 2.1845\n",
      "Epoch 1200 | Loss: 2.0105\n",
      "Epoch 1300 | Loss: 1.9812\n",
      "Epoch 1400 | Loss: 2.0029\n",
      "Epoch 1500 | Loss: 1.8286\n",
      "Epoch 1600 | Loss: 1.9952\n",
      "Epoch 1700 | Loss: 1.8913\n",
      "Epoch 1800 | Loss: 1.7601\n",
      "Epoch 1900 | Loss: 1.9091\n"
     ]
    }
   ],
   "source": [
    "heads = ([2] * 2) + [1]\n",
    "net = GAT(S, 2, 1, 4, 10, heads, F.elu, .3, .3, .2, False)\n",
    "\n",
    "optimizer = torch.optim.Adam(net.parameters(), lr=0.005)\n",
    "all_logits = []\n",
    "for epoch in range(2000):\n",
    "    logits = net(inputs)\n",
    "    # we save the logits for visualization later\n",
    "    logp = F.log_softmax(logits, 1)\n",
    "    # we only compute loss for labeled nodes\n",
    "    loss = F.nll_loss(logp[labeled_nodes], labels_train)\n",
    "\n",
    "    optimizer.zero_grad()\n",
    "    loss.backward()\n",
    "    optimizer.step()\n",
    "    if epoch%100 == 0:\n",
    "        print('Epoch %d | Loss: %.4f' % (epoch, loss.item()))\n"
   ]
  },
  {
   "cell_type": "code",
   "execution_count": 87,
   "metadata": {},
   "outputs": [],
   "source": [
    "net.eval()\n",
    "logits = net(inputs)\n",
    "# we save the logits for visualization later\n",
    "logp = F.log_softmax(logits, 1)\n",
    "# we only compute loss for labeled nodes\n",
    "#loss = F.nll_loss(logp[labeled_nodes], labels_train)"
   ]
  },
  {
   "cell_type": "code",
   "execution_count": 88,
   "metadata": {},
   "outputs": [
    {
     "data": {
      "text/plain": [
       "tensor([[-2.7576, -2.3265, -4.0423,  ..., -4.0592, -1.7680, -1.9885],\n",
       "        [-2.4467, -2.0291, -4.4223,  ..., -4.4248, -1.7731, -1.9679],\n",
       "        [-2.8504, -2.4166, -3.9592,  ..., -3.9801, -1.7683, -1.9947],\n",
       "        ...,\n",
       "        [-2.4955, -2.0899, -4.5525,  ..., -4.5579, -1.7314, -1.9173],\n",
       "        [-2.4955, -2.0899, -4.5525,  ..., -4.5579, -1.7314, -1.9173],\n",
       "        [-2.4422, -2.0318, -4.5100,  ..., -4.5125, -1.7563, -1.9450]],\n",
       "       grad_fn=<LogSoftmaxBackward>)"
      ]
     },
     "execution_count": 88,
     "metadata": {},
     "output_type": "execute_result"
    }
   ],
   "source": [
    "logp"
   ]
  },
  {
   "cell_type": "code",
   "execution_count": 89,
   "metadata": {},
   "outputs": [],
   "source": [
    "argmax_Y = torch.max(logp[unlabelled_nodes], 1)[1]"
   ]
  },
  {
   "cell_type": "code",
   "execution_count": 90,
   "metadata": {},
   "outputs": [
    {
     "name": "stdout",
     "output_type": "stream",
     "text": [
      "Accuracy of argmax predictions on the test set: 26.451613%\n"
     ]
    }
   ],
   "source": [
    "print('Accuracy of argmax predictions on the test set: {:4f}%'.format(\n",
    "    (test_label == argmax_Y.float()).sum().item() / len(test_label) * 100))"
   ]
  },
  {
   "cell_type": "code",
   "execution_count": null,
   "metadata": {},
   "outputs": [],
   "source": []
  },
  {
   "cell_type": "code",
   "execution_count": null,
   "metadata": {},
   "outputs": [],
   "source": []
  }
 ],
 "metadata": {
  "kernelspec": {
   "display_name": "Python 3",
   "language": "python",
   "name": "python3"
  },
  "language_info": {
   "codemirror_mode": {
    "name": "ipython",
    "version": 3
   },
   "file_extension": ".py",
   "mimetype": "text/x-python",
   "name": "python",
   "nbconvert_exporter": "python",
   "pygments_lexer": "ipython3",
   "version": "3.7.6"
  }
 },
 "nbformat": 4,
 "nbformat_minor": 4
}
