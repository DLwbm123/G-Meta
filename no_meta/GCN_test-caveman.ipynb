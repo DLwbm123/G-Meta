{
 "cells": [
  {
   "cell_type": "code",
   "execution_count": 1,
   "metadata": {},
   "outputs": [],
   "source": [
    "import os\n",
    "import torch\n",
    "from torch.utils.data import Dataset\n",
    "import numpy as np\n",
    "import collections\n",
    "import csv\n",
    "import random\n",
    "import pickle\n",
    "from torch.utils.data import DataLoader\n",
    "import dgl\n",
    "import pandas as pd\n",
    "\n",
    "class Subgraphs(Dataset):\n",
    "\n",
    "\n",
    "    def __init__(self, root, mode, subgraph_list, subgraph2label, subgraph2center_node):   \n",
    "\n",
    "        self.subgraph2label = subgraph2label\n",
    "        self.subgraph_list = subgraph_list\n",
    "        self.subgraph2center_node = subgraph2center_node\n",
    "        \n",
    "        self.data = pd.read_csv(os.path.join(root, mode + '.csv'))  # csv path\n",
    "    \n",
    "    def __getitem__(self, index):\n",
    "        \n",
    "        return self.subgraph_list[self.data.iloc[index]['name']], self.subgraph2label[self.data.iloc[index]['name']], self.subgraph2center_node[self.data.iloc[index]['name']] \n",
    "\n",
    "    def __len__(self):\n",
    "        # as we have built up to batchsz of sets, you can sample some small batch size of sets.\n",
    "        return len(self.data)\n",
    "    \n",
    "def collate(samples):\n",
    "    # The input `samples` is a list of pairs\n",
    "    #  (graph, label).\n",
    "    graphs, labels, center_nodes = map(list, zip(*samples))\n",
    "    batched_graph = dgl.batch(graphs)\n",
    "    return batched_graph, torch.LongTensor(labels), torch.LongTensor(center_nodes)\n"
   ]
  },
  {
   "cell_type": "code",
   "execution_count": 2,
   "metadata": {},
   "outputs": [],
   "source": [
    "import dgl.function as fn\n",
    "import torch\n",
    "import torch.nn as nn\n",
    "\n",
    "\n",
    "# Sends a message of node feature h.\n",
    "msg = fn.copy_src(src='h', out='m')\n",
    "\n",
    "def reduce(nodes):\n",
    "    \"\"\"Take an average over all neighbor node features hu and use it to\n",
    "    overwrite the original node feature.\"\"\"\n",
    "    accum = torch.mean(nodes.mailbox['m'], 1)\n",
    "    return {'h': accum}\n",
    "\n",
    "class NodeApplyModule(nn.Module):\n",
    "    \"\"\"Update the node feature hv with ReLU(Whv+b).\"\"\"\n",
    "    def __init__(self, in_feats, out_feats, activation):\n",
    "        super(NodeApplyModule, self).__init__()\n",
    "        self.linear = nn.Linear(in_feats, out_feats)\n",
    "        self.activation = activation\n",
    "\n",
    "    def forward(self, node):\n",
    "        h = self.linear(node.data['h'])\n",
    "        h = self.activation(h)\n",
    "        return {'h' : h}\n",
    "\n",
    "class GCN(nn.Module):\n",
    "    def __init__(self, in_feats, out_feats, activation):\n",
    "        super(GCN, self).__init__()\n",
    "        self.apply_mod = NodeApplyModule(in_feats, out_feats, activation)\n",
    "\n",
    "    def forward(self, g, feature):\n",
    "        # Initialize the node features with h.\n",
    "        g.ndata['h'] = feature\n",
    "        g.update_all(msg, reduce)\n",
    "        g.apply_nodes(func=self.apply_mod)\n",
    "        return g.ndata.pop('h')"
   ]
  },
  {
   "cell_type": "code",
   "execution_count": 29,
   "metadata": {},
   "outputs": [],
   "source": [
    "import torch.nn.functional as F\n",
    "\n",
    "\n",
    "class Classifier(nn.Module):\n",
    "    def __init__(self, in_dim, hidden_dim, n_classes):\n",
    "        super(Classifier, self).__init__()\n",
    "\n",
    "        self.layers = nn.ModuleList([\n",
    "            GCN(in_dim, hidden_dim, F.relu),\n",
    "            GCN(hidden_dim, hidden_dim, F.relu)])\n",
    "        self.classify = nn.Linear(hidden_dim, n_classes)\n",
    "\n",
    "    def forward(self, g, to_fetch, features):\n",
    "        # For undirected graphs, in_degree is the same as\n",
    "        # out_degree.\n",
    "        #h = g.in_degrees().view(-1, 1).float().to(device)\n",
    "        #print(h.shape)\n",
    "        h = features.float()\n",
    "        for conv in self.layers:\n",
    "            h = conv(g, h)\n",
    "        g.ndata['h'] = h\n",
    "        #print(h.shape)\n",
    "        #hg = dgl.mean_nodes(g, 'h')\n",
    "        #print(to_fetch)\n",
    "        num_nodes_ = g.batch_num_nodes\n",
    "        num_nodes_.insert(0, 0)\n",
    "        offset = torch.cumsum(torch.LongTensor(num_nodes_), dim = 0)[:-1].to(device)\n",
    "        hg = h[to_fetch + offset]\n",
    "        #print(hg.shape)\n",
    "        #print(hg.shape)\n",
    "        #print(h[0].shape)\n",
    "        #hg = h[g.nodes[0].data['center_node'].detach().numpy()[0]]\n",
    "        #print(hg.shape)\n",
    "        return self.classify(hg)"
   ]
  },
  {
   "cell_type": "code",
   "execution_count": 30,
   "metadata": {},
   "outputs": [],
   "source": [
    "from torch.utils.data import DataLoader\n",
    "import torch.optim as optim\n",
    "dataset = 'cora'\n",
    "path = '../../MGNN_Local_Data/caveman/'\n",
    "\n",
    "with open(path + 'list_subgraph.pkl', 'rb') as f:\n",
    "    total_subgraph = pickle.load(f)\n",
    "    \n",
    "with open(path + 'label.pkl', 'rb') as f:\n",
    "    info = pickle.load(f)\n",
    "\n",
    "with open(path + 'center.pkl', 'rb') as f:\n",
    "    center_node = pickle.load(f)\n",
    "    \n",
    "trainset = Subgraphs(path, 'train', total_subgraph, info, center_node)\n",
    "#valset = Subgraphs(path, mode='val', path_s = 'list_subgraph.pkl', path_l = 'label.pkl')\n",
    "#testset = Subgraphs(path, mode='test', path_s = 'list_subgraph.pkl', path_l = 'label.pkl')\n",
    "    \n",
    "data_loader = DataLoader(trainset, batch_size=64, shuffle=True,\n",
    "                         collate_fn=collate)\n",
    "device = torch.device('cuda' if torch.cuda.is_available() else 'cpu')"
   ]
  },
  {
   "cell_type": "code",
   "execution_count": 31,
   "metadata": {
    "scrolled": true
   },
   "outputs": [
    {
     "name": "stdout",
     "output_type": "stream",
     "text": [
      "Epoch 0, loss 2.2803\n",
      "Epoch 1, loss 2.2193\n",
      "Epoch 2, loss 2.1523\n",
      "Epoch 3, loss 2.0806\n",
      "Epoch 4, loss 1.9866\n",
      "Epoch 5, loss 1.8743\n",
      "Epoch 6, loss 1.7475\n",
      "Epoch 7, loss 1.6064\n",
      "Epoch 8, loss 1.4498\n",
      "Epoch 9, loss 1.2630\n",
      "Epoch 10, loss 1.0825\n",
      "Epoch 11, loss 0.8952\n",
      "Epoch 12, loss 0.7186\n",
      "Epoch 13, loss 0.5527\n",
      "Epoch 14, loss 0.4150\n",
      "Epoch 15, loss 0.3009\n",
      "Epoch 16, loss 0.2109\n",
      "Epoch 17, loss 0.1497\n",
      "Epoch 18, loss 0.1031\n",
      "Epoch 19, loss 0.0712\n",
      "Epoch 20, loss 0.0484\n",
      "Epoch 21, loss 0.0333\n",
      "Epoch 22, loss 0.0233\n",
      "Epoch 23, loss 0.0170\n",
      "Epoch 24, loss 0.0130\n",
      "Epoch 25, loss 0.0101\n",
      "Epoch 26, loss 0.0079\n",
      "Epoch 27, loss 0.0063\n",
      "Epoch 28, loss 0.0051\n",
      "Epoch 29, loss 0.0042\n",
      "Epoch 30, loss 0.0036\n",
      "Epoch 31, loss 0.0031\n",
      "Epoch 32, loss 0.0027\n",
      "Epoch 33, loss 0.0024\n",
      "Epoch 34, loss 0.0022\n",
      "Epoch 35, loss 0.0020\n",
      "Epoch 36, loss 0.0018\n",
      "Epoch 37, loss 0.0017\n",
      "Epoch 38, loss 0.0016\n",
      "Epoch 39, loss 0.0015\n",
      "Epoch 40, loss 0.0015\n",
      "Epoch 41, loss 0.0014\n",
      "Epoch 42, loss 0.0013\n",
      "Epoch 43, loss 0.0013\n",
      "Epoch 44, loss 0.0012\n",
      "Epoch 45, loss 0.0012\n",
      "Epoch 46, loss 0.0012\n",
      "Epoch 47, loss 0.0011\n",
      "Epoch 48, loss 0.0011\n",
      "Epoch 49, loss 0.0011\n"
     ]
    }
   ],
   "source": [
    "# Create model\n",
    "model = Classifier(10, 64, 10)\n",
    "model.to(device)\n",
    "loss_func = nn.CrossEntropyLoss()\n",
    "optimizer = optim.Adam(model.parameters(), lr=0.005)\n",
    "model.train()\n",
    "\n",
    "epoch_losses = []\n",
    "for epoch in range(50):\n",
    "    epoch_loss = 0\n",
    "    for iter, (bg, label, to_fetch) in enumerate(data_loader):\n",
    "        features = bg.ndata['h']\n",
    "        bg = bg.to(device)\n",
    "        label = label.to(device)\n",
    "        prediction = model(bg, to_fetch, features)\n",
    "        #print(prediction.shape)\n",
    "        loss = loss_func(prediction, label)\n",
    "        optimizer.zero_grad()\n",
    "        loss.backward()\n",
    "        optimizer.step()\n",
    "        epoch_loss += loss.detach().item()\n",
    "    epoch_loss /= (iter + 1)\n",
    "    print('Epoch {}, loss {:.4f}'.format(epoch, epoch_loss))\n",
    "    epoch_losses.append(epoch_loss)"
   ]
  },
  {
   "cell_type": "code",
   "execution_count": 32,
   "metadata": {},
   "outputs": [],
   "source": [
    "torch.save(model.state_dict(), 'model.pt')"
   ]
  },
  {
   "cell_type": "code",
   "execution_count": 33,
   "metadata": {},
   "outputs": [
    {
     "data": {
      "text/plain": [
       "<All keys matched successfully>"
      ]
     },
     "execution_count": 33,
     "metadata": {},
     "output_type": "execute_result"
    }
   ],
   "source": [
    "model = Classifier(10, 64, 10)\n",
    "model.load_state_dict(torch.load('model.pt'))"
   ]
  },
  {
   "cell_type": "code",
   "execution_count": 36,
   "metadata": {},
   "outputs": [
    {
     "name": "stdout",
     "output_type": "stream",
     "text": [
      "Accuracy of argmax predictions on the test set: 100.000000%\n"
     ]
    }
   ],
   "source": [
    "path = '../../MGNN_Local_Data/caveman/'\n",
    "valset = Subgraphs(path, 'val', total_subgraph, info, center_node)\n",
    "#testset = Subgraphs(path, mode='test', path_s = 'list_subgraph.pkl', path_l = 'label.pkl')\n",
    "device = torch.device('cuda' if torch.cuda.is_available() else 'cpu')\n",
    "model.to(device)\n",
    "model.eval()\n",
    "# Convert a list of tuples to two lists\n",
    "test_X, test_Y, center_nodes = map(list, zip(*valset))\n",
    "test_bg = dgl.batch(test_X)\n",
    "test_Y = torch.tensor(test_Y).float().view(-1, 1)\n",
    "test_bg.to(device)\n",
    "test_Y.to(device)\n",
    "center_nodes = torch.LongTensor(center_nodes).to(device)\n",
    "\n",
    "probs_Y = torch.softmax(model(test_bg, center_nodes, test_bg.ndata['h']), 1)\n",
    "argmax_Y = torch.max(probs_Y, 1)[1].view(-1, 1)\n",
    "print('Accuracy of argmax predictions on the test set: {:4f}%'.format(\n",
    "    (test_Y == argmax_Y.detach().cpu().float()).sum().item() / len(test_Y) * 100))"
   ]
  },
  {
   "cell_type": "code",
   "execution_count": null,
   "metadata": {},
   "outputs": [],
   "source": []
  }
 ],
 "metadata": {
  "kernelspec": {
   "display_name": "Python 3",
   "language": "python",
   "name": "python3"
  },
  "language_info": {
   "codemirror_mode": {
    "name": "ipython",
    "version": 3
   },
   "file_extension": ".py",
   "mimetype": "text/x-python",
   "name": "python",
   "nbconvert_exporter": "python",
   "pygments_lexer": "ipython3",
   "version": "3.7.6"
  }
 },
 "nbformat": 4,
 "nbformat_minor": 4
}
