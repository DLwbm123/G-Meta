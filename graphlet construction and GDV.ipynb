{
 "cells": [
  {
   "cell_type": "code",
   "execution_count": 1,
   "metadata": {},
   "outputs": [],
   "source": [
    "import networkx as nx\n",
    "import numpy as np\n",
    "from scipy.special import comb\n",
    "from itertools import combinations \n",
    "import networkx.algorithms.isomorphism as iso\n",
    "from tqdm import tqdm\n",
    "import matplotlib.pyplot as plt\n",
    "import dgl"
   ]
  },
  {
   "cell_type": "code",
   "execution_count": 2,
   "metadata": {
    "scrolled": false
   },
   "outputs": [],
   "source": [
    "def generate_graphlet(n):\n",
    "    non_iso_graph = []\n",
    "    non_iso_graph_adj = []\n",
    "    dgl_graph = []\n",
    "    for i in tqdm(range(n-1, int(comb(n, 2))+1)):\n",
    "    # for each of these possible # of edges\n",
    "        arr = np.array(range(int((n**2-n)/2)))\n",
    "        all_comb = list(combinations(arr, i)) \n",
    "        # all possible combination of edge positions \n",
    "        indices = np.triu_indices(n, 1)\n",
    "        for m in range(len(all_comb)):\n",
    "            # iterate over all these graphs\n",
    "            adj = np.zeros((n,n))\n",
    "            adj[indices[0][np.array(all_comb[m])], indices[1][np.array(all_comb[m])]] = 1\n",
    "            adj_temp = adj\n",
    "            adj = adj + adj.T\n",
    "            #print(adj)\n",
    "            if sum(np.sum(adj_temp, axis = 0) == 0) == 1:\n",
    "                #the graph has to be connected\n",
    "                new_graph = nx.from_numpy_matrix(adj)\n",
    "                if len(non_iso_graph) == 0:\n",
    "                    non_iso_graph.append(new_graph)\n",
    "                    non_iso_graph_adj.append(adj)\n",
    "                    S = dgl.DGLGraph()\n",
    "                    S.from_networkx(new_graph)\n",
    "                    dgl_graph.append(S)\n",
    "                else:\n",
    "                    is_iso = False\n",
    "                    for g in non_iso_graph:\n",
    "                        if iso.is_isomorphic(g, new_graph):\n",
    "                            #print('yes')\n",
    "                            is_iso = True\n",
    "                            break\n",
    "                    if not is_iso:\n",
    "                        # not isomorphic to any of the current graphs\n",
    "                        non_iso_graph.append(new_graph)\n",
    "                        non_iso_graph_adj.append(adj)\n",
    "                        \n",
    "                        S = dgl.DGLGraph()\n",
    "                        S.from_networkx(new_graph)\n",
    "                        dgl_graph.append(S)\n",
    "                        \n",
    "    \n",
    "    print('There are {} non-isomorphic graphs'.format(len(non_iso_graph)))\n",
    "    return dgl_graph\n",
    "#for i in range(len(non_iso_graph)):\n",
    "#    plt.figure(i+1)\n",
    "#    nx.draw(non_iso_graph[i], with_labels = True)"
   ]
  },
  {
   "cell_type": "code",
   "execution_count": 19,
   "metadata": {},
   "outputs": [
    {
     "name": "stderr",
     "output_type": "stream",
     "text": [
      "100%|██████████| 1/1 [00:00<00:00, 191.61it/s]\n",
      "100%|██████████| 2/2 [00:00<00:00, 694.19it/s]\n",
      "100%|██████████| 4/4 [00:00<00:00, 362.42it/s]\n",
      "100%|██████████| 7/7 [00:00<00:00, 34.96it/s]"
     ]
    },
    {
     "name": "stdout",
     "output_type": "stream",
     "text": [
      "There are 1 non-isomorphic graphs\n",
      "There are 2 non-isomorphic graphs\n",
      "There are 6 non-isomorphic graphs\n",
      "There are 21 non-isomorphic graphs\n"
     ]
    },
    {
     "name": "stderr",
     "output_type": "stream",
     "text": [
      "\n"
     ]
    }
   ],
   "source": [
    "graphs = []\n",
    "for i in range(1, 5):\n",
    "    graphs = graphs + generate_graphlet(i+1)"
   ]
  },
  {
   "cell_type": "code",
   "execution_count": 20,
   "metadata": {},
   "outputs": [
    {
     "data": {
      "text/plain": [
       "30"
      ]
     },
     "execution_count": 20,
     "metadata": {},
     "output_type": "execute_result"
    }
   ],
   "source": [
    "len(graphs)"
   ]
  },
  {
   "cell_type": "code",
   "execution_count": 22,
   "metadata": {},
   "outputs": [
    {
     "data": {
      "text/plain": [
       "137"
      ]
     },
     "execution_count": 22,
     "metadata": {},
     "output_type": "execute_result"
    }
   ],
   "source": [
    "(dgl.batch(graphs))"
   ]
  },
  {
   "cell_type": "code",
   "execution_count": null,
   "metadata": {},
   "outputs": [],
   "source": []
  },
  {
   "cell_type": "code",
   "execution_count": 3,
   "metadata": {},
   "outputs": [],
   "source": [
    "# borrow from OrbitalFeatures github\n",
    "import pandas as pd\n",
    "from tqdm import tqdm\n",
    "import networkx as nx\n",
    "from networkx.generators.atlas import *\n",
    "\n",
    "class MotifCounterMachine(object):\n",
    "    \"\"\"\n",
    "    Connected motif orbital role counter.\n",
    "    \"\"\"\n",
    "    def __init__(self, graph, graphlet_size):\n",
    "        \"\"\"\n",
    "        Creating an orbital role counter machine.\n",
    "        :param graph: NetworkX graph.\n",
    "        :param args: Arguments object.\n",
    "        \"\"\"\n",
    "        self.graph = graph\n",
    "        self.graphlet_size = graphlet_size\n",
    "\n",
    "    def create_edge_subsets(self):\n",
    "        \"\"\"\n",
    "        Enumerating connected subgraphs with size 2 up to the graphlet size.\n",
    "        \"\"\"\n",
    "        print(\"\\nEnumerating subgraphs.\\n\")\n",
    "        self.edge_subsets = dict()\n",
    "        subsets = [[edge[0], edge[1]] for edge in self.graph.edges()]\n",
    "        self.edge_subsets[2] = subsets\n",
    "        unique_subsets = dict()\n",
    "        for i in range(3, self.graphlet_size+1):\n",
    "            print(\"Enumerating graphlets with size: \" +str(i) + \".\")\n",
    "            for subset in tqdm(subsets):\n",
    "                for node in subset:\n",
    "                    for neb in self.graph.neighbors(node):\n",
    "                        new_subset = subset+[neb]\n",
    "                        if len(set(new_subset)) == i:\n",
    "                            new_subset.sort()\n",
    "                            unique_subsets[tuple(new_subset)] = 1\n",
    "            subsets = [list(k) for k, v in unique_subsets.items()]\n",
    "            self.edge_subsets[i] = subsets\n",
    "            unique_subsets = dict()\n",
    "\n",
    "    def enumerate_graphs(self):\n",
    "        \"\"\"\n",
    "        Creating a hash table of the benchmark motifs.\n",
    "        \"\"\"\n",
    "        graphs = graph_atlas_g()\n",
    "        self.interesting_graphs = {i: [] for i in range(2, self.graphlet_size+1)}\n",
    "        for graph in graphs:\n",
    "            if graph.number_of_nodes() > 1 and graph.number_of_nodes() < self.graphlet_size+1:\n",
    "                if nx.is_connected(graph):\n",
    "                    self.interesting_graphs[graph.number_of_nodes()].append(graph)\n",
    "\n",
    "    def enumerate_categories(self):\n",
    "        \"\"\"\n",
    "        Creating a hash table of benchmark orbital roles.\n",
    "        \"\"\"\n",
    "        main_index = 0\n",
    "        self.categories = dict()\n",
    "        for size, graphs in self.interesting_graphs.items():\n",
    "            self.categories[size] = dict()\n",
    "            for index, graph in enumerate(graphs):\n",
    "                self.categories[size][index] = dict()\n",
    "                degrees = list(set([graph.degree(node) for node in graph.nodes()]))\n",
    "                for degree in degrees:\n",
    "                    self.categories[size][index][degree] = main_index\n",
    "                    main_index = main_index + 1\n",
    "        self.unique_motif_count = main_index + 1\n",
    "\n",
    "    def setup_features(self):\n",
    "        \"\"\"\n",
    "        Counting all the orbital roles.\n",
    "        \"\"\"\n",
    "        print(\"\\nCounting orbital roles.\\n\")\n",
    "        self.features = {node: {i:0 for i in range(self.unique_motif_count)}for node in self.graph.nodes()}\n",
    "        for size, node_lists in self.edge_subsets.items():\n",
    "            graphs = self.interesting_graphs[size]\n",
    "            for nodes in tqdm(node_lists):\n",
    "                sub_gr = self.graph.subgraph(nodes)\n",
    "                for index, graph in enumerate(graphs):\n",
    "                    if nx.is_isomorphic(sub_gr, graph):\n",
    "                        for node in sub_gr.nodes():\n",
    "                            self.features[node][self.categories[size][index][sub_gr.degree(node)]] += 1\n",
    "                        break\n",
    "\n",
    "    def create_tabular_motifs(self):\n",
    "        \"\"\"\n",
    "        Creating a table with the orbital role features.\n",
    "        \"\"\"\n",
    "        print(\"Saving the dataset.\")\n",
    "        self.binned_features = {node: [] for node in self.graph.nodes()}\n",
    "        self.motifs = [[n]+[self.features[n][i] for i in  range(self.unique_motif_count)] for n in self.graph.nodes()]\n",
    "        self.motifs = pd.DataFrame(self.motifs)\n",
    "        self.motifs.columns = [\"id\"] + [\"role_\"+str(index) for index in range(self.unique_motif_count)]\n",
    "        #self.motifs.to_csv(self.args.output, index=None)\n",
    "\n",
    "    def extract_features(self):\n",
    "        \"\"\"\n",
    "        Executing steps for feature extraction.\n",
    "        \"\"\"\n",
    "        self.create_edge_subsets()\n",
    "        self.enumerate_graphs()\n",
    "        self.enumerate_categories()\n",
    "        self.setup_features()\n",
    "        self.create_tabular_motifs()\n",
    "        print('motif extracted')"
   ]
  },
  {
   "cell_type": "code",
   "execution_count": 19,
   "metadata": {},
   "outputs": [
    {
     "name": "stderr",
     "output_type": "stream",
     "text": [
      "\n",
      "100%|██████████| 81/81 [00:00<00:00, 34261.66it/s]\n",
      "\n",
      "100%|██████████| 423/423 [00:00<00:00, 50453.31it/s]\n",
      "\n",
      "100%|██████████| 2322/2322 [00:00<00:00, 39428.74it/s]\n",
      "\n",
      "100%|██████████| 81/81 [00:00<00:00, 4320.29it/s]\n",
      "\n",
      "  0%|          | 0/423 [00:00<?, ?it/s]\u001b[A"
     ]
    },
    {
     "name": "stdout",
     "output_type": "stream",
     "text": [
      "\n",
      "Enumerating subgraphs.\n",
      "\n",
      "Enumerating graphlets with size: 3.\n",
      "Enumerating graphlets with size: 4.\n",
      "Enumerating graphlets with size: 5.\n",
      "\n",
      "Counting orbital roles.\n",
      "\n"
     ]
    },
    {
     "name": "stderr",
     "output_type": "stream",
     "text": [
      "\n",
      "100%|██████████| 423/423 [00:00<00:00, 2669.75it/s]\u001b[A\n",
      "\n",
      "  0%|          | 0/2322 [00:00<?, ?it/s]\u001b[A\n",
      "  7%|▋         | 160/2322 [00:00<00:01, 1597.92it/s]\u001b[A\n",
      " 14%|█▍        | 335/2322 [00:00<00:01, 1640.10it/s]\u001b[A\n",
      " 22%|██▏       | 512/2322 [00:00<00:01, 1675.41it/s]\u001b[A\n",
      " 29%|██▉       | 675/2322 [00:00<00:00, 1659.82it/s]\u001b[A\n",
      " 37%|███▋      | 861/2322 [00:00<00:00, 1713.89it/s]\u001b[A\n",
      " 45%|████▍     | 1035/2322 [00:00<00:00, 1718.51it/s]\u001b[A\n",
      " 53%|█████▎    | 1226/2322 [00:00<00:00, 1769.79it/s]\u001b[A\n",
      " 60%|██████    | 1403/2322 [00:00<00:00, 1768.23it/s]\u001b[A\n",
      " 69%|██████▊   | 1593/2322 [00:00<00:00, 1803.47it/s]\u001b[A\n",
      " 77%|███████▋  | 1781/2322 [00:01<00:00, 1824.22it/s]\u001b[A\n",
      " 85%|████████▌ | 1983/2322 [00:01<00:00, 1876.76it/s]\u001b[A\n",
      "100%|██████████| 2322/2322 [00:01<00:00, 1807.69it/s]\u001b[A\n",
      "\n",
      "  0%|          | 0/11768 [00:00<?, ?it/s]\u001b[A\n",
      "  1%|          | 65/11768 [00:00<00:18, 640.76it/s]\u001b[A\n",
      "  1%|          | 142/11768 [00:00<00:17, 673.67it/s]\u001b[A\n",
      "  2%|▏         | 224/11768 [00:00<00:16, 710.90it/s]\u001b[A\n",
      "  3%|▎         | 310/11768 [00:00<00:15, 748.94it/s]\u001b[A\n",
      "  3%|▎         | 400/11768 [00:00<00:14, 787.94it/s]\u001b[A\n",
      "  4%|▍         | 479/11768 [00:00<00:14, 788.39it/s]\u001b[A\n",
      "  5%|▍         | 552/11768 [00:00<00:14, 750.14it/s]\u001b[A\n",
      "  6%|▌         | 668/11768 [00:00<00:13, 838.69it/s]\u001b[A\n",
      "  6%|▋         | 760/11768 [00:00<00:12, 858.66it/s]\u001b[A\n",
      "  7%|▋         | 854/11768 [00:01<00:12, 881.30it/s]\u001b[A\n",
      "  8%|▊         | 958/11768 [00:01<00:11, 923.50it/s]\u001b[A\n",
      "  9%|▉         | 1061/11768 [00:01<00:11, 950.92it/s]\u001b[A\n",
      " 10%|▉         | 1170/11768 [00:01<00:10, 987.94it/s]\u001b[A\n",
      " 11%|█         | 1286/11768 [00:01<00:10, 1033.90it/s]\u001b[A\n",
      " 12%|█▏        | 1391/11768 [00:01<00:10, 1028.60it/s]\u001b[A\n",
      " 13%|█▎        | 1495/11768 [00:01<00:09, 1028.71it/s]\u001b[A\n",
      " 14%|█▎        | 1603/11768 [00:01<00:09, 1043.13it/s]\u001b[A\n",
      " 15%|█▍        | 1711/11768 [00:01<00:09, 1052.00it/s]\u001b[A\n",
      " 16%|█▌        | 1825/11768 [00:01<00:09, 1075.58it/s]\u001b[A\n",
      " 16%|█▋        | 1933/11768 [00:02<00:09, 1074.77it/s]\u001b[A\n",
      " 17%|█▋        | 2041/11768 [00:02<00:09, 1029.94it/s]\u001b[A\n",
      " 18%|█▊        | 2174/11768 [00:02<00:08, 1104.23it/s]\u001b[A\n",
      " 19%|█▉        | 2290/11768 [00:02<00:08, 1119.17it/s]\u001b[A\n",
      " 20%|██        | 2404/11768 [00:02<00:08, 1123.98it/s]\u001b[A\n",
      " 21%|██▏       | 2518/11768 [00:02<00:08, 1073.51it/s]\u001b[A\n",
      " 22%|██▏       | 2627/11768 [00:02<00:09, 1003.28it/s]\u001b[A\n",
      " 23%|██▎       | 2730/11768 [00:02<00:09, 1002.37it/s]\u001b[A\n",
      " 24%|██▍       | 2832/11768 [00:02<00:08, 1007.42it/s]\u001b[A\n",
      " 25%|██▍       | 2934/11768 [00:02<00:08, 988.13it/s] \u001b[A\n",
      " 26%|██▌       | 3046/11768 [00:03<00:08, 1023.17it/s]\u001b[A\n",
      " 27%|██▋       | 3176/11768 [00:03<00:07, 1091.98it/s]\u001b[A\n",
      " 28%|██▊       | 3310/11768 [00:03<00:07, 1154.76it/s]\u001b[A\n",
      " 29%|██▉       | 3443/11768 [00:03<00:06, 1200.82it/s]\u001b[A\n",
      " 30%|███       | 3566/11768 [00:03<00:07, 1094.82it/s]\u001b[A\n",
      " 31%|███▏      | 3679/11768 [00:03<00:07, 1023.34it/s]\u001b[A\n",
      " 32%|███▏      | 3785/11768 [00:03<00:08, 950.76it/s] \u001b[A\n",
      " 33%|███▎      | 3884/11768 [00:03<00:08, 890.50it/s]\u001b[A\n",
      " 34%|███▍      | 3977/11768 [00:04<00:08, 873.84it/s]\u001b[A\n",
      " 35%|███▍      | 4072/11768 [00:04<00:08, 892.75it/s]\u001b[A\n",
      " 35%|███▌      | 4163/11768 [00:04<00:08, 869.61it/s]\u001b[A\n",
      " 36%|███▋      | 4273/11768 [00:04<00:08, 926.26it/s]\u001b[A\n",
      " 37%|███▋      | 4380/11768 [00:04<00:07, 963.65it/s]\u001b[A\n",
      " 38%|███▊      | 4497/11768 [00:04<00:07, 1015.73it/s]\u001b[A\n",
      " 39%|███▉      | 4601/11768 [00:04<00:07, 998.05it/s] \u001b[A\n",
      " 40%|████      | 4719/11768 [00:04<00:06, 1044.57it/s]\u001b[A\n",
      " 41%|████      | 4826/11768 [00:04<00:06, 1047.97it/s]\u001b[A\n",
      " 42%|████▏     | 4940/11768 [00:04<00:06, 1072.40it/s]\u001b[A\n",
      " 43%|████▎     | 5055/11768 [00:05<00:06, 1093.94it/s]\u001b[A\n",
      " 44%|████▍     | 5166/11768 [00:05<00:06, 1090.73it/s]\u001b[A\n",
      " 45%|████▍     | 5276/11768 [00:05<00:06, 945.92it/s] \u001b[A\n",
      " 46%|████▌     | 5390/11768 [00:05<00:06, 996.54it/s]\u001b[A\n",
      " 47%|████▋     | 5510/11768 [00:05<00:05, 1048.37it/s]\u001b[A\n",
      " 48%|████▊     | 5621/11768 [00:05<00:05, 1064.27it/s]\u001b[A\n",
      " 49%|████▊     | 5730/11768 [00:05<00:06, 984.10it/s] \u001b[A\n",
      " 50%|████▉     | 5832/11768 [00:05<00:06, 976.90it/s]\u001b[A\n",
      " 50%|█████     | 5933/11768 [00:05<00:05, 986.05it/s]\u001b[A\n",
      " 51%|█████▏    | 6036/11768 [00:06<00:05, 996.29it/s]\u001b[A\n",
      " 52%|█████▏    | 6137/11768 [00:06<00:05, 995.01it/s]\u001b[A\n",
      " 53%|█████▎    | 6241/11768 [00:06<00:05, 1007.08it/s]\u001b[A\n",
      " 54%|█████▍    | 6343/11768 [00:06<00:05, 1007.09it/s]\u001b[A\n",
      " 55%|█████▍    | 6450/11768 [00:06<00:05, 1022.02it/s]\u001b[A\n",
      " 56%|█████▌    | 6553/11768 [00:06<00:05, 973.89it/s] \u001b[A\n",
      " 57%|█████▋    | 6652/11768 [00:06<00:05, 933.05it/s]\u001b[A\n",
      " 57%|█████▋    | 6757/11768 [00:06<00:05, 963.74it/s]\u001b[A\n",
      " 58%|█████▊    | 6861/11768 [00:06<00:04, 985.34it/s]\u001b[A\n",
      " 59%|█████▉    | 6979/11768 [00:06<00:04, 1034.18it/s]\u001b[A\n",
      " 60%|██████    | 7093/11768 [00:07<00:04, 1061.63it/s]\u001b[A\n",
      " 61%|██████▏   | 7208/11768 [00:07<00:04, 1084.66it/s]\u001b[A\n",
      " 62%|██████▏   | 7338/11768 [00:07<00:03, 1140.00it/s]\u001b[A\n",
      " 63%|██████▎   | 7454/11768 [00:07<00:03, 1094.08it/s]\u001b[A\n",
      " 64%|██████▍   | 7565/11768 [00:07<00:04, 983.28it/s] \u001b[A\n",
      " 65%|██████▌   | 7667/11768 [00:07<00:04, 975.25it/s]\u001b[A\n",
      " 66%|██████▌   | 7791/11768 [00:07<00:03, 1041.26it/s]\u001b[A\n",
      " 67%|██████▋   | 7908/11768 [00:07<00:03, 1074.40it/s]\u001b[A\n",
      " 68%|██████▊   | 8041/11768 [00:07<00:03, 1139.78it/s]\u001b[A\n",
      " 69%|██████▉   | 8158/11768 [00:08<00:03, 1148.18it/s]\u001b[A\n",
      " 70%|███████   | 8275/11768 [00:08<00:03, 1147.44it/s]\u001b[A\n",
      " 71%|███████▏  | 8392/11768 [00:08<00:02, 1128.57it/s]\u001b[A\n",
      " 72%|███████▏  | 8506/11768 [00:08<00:02, 1094.79it/s]\u001b[A\n",
      " 73%|███████▎  | 8617/11768 [00:08<00:02, 1091.28it/s]\u001b[A\n",
      " 74%|███████▍  | 8727/11768 [00:08<00:02, 1056.80it/s]\u001b[A\n",
      " 75%|███████▌  | 8834/11768 [00:08<00:02, 1024.88it/s]\u001b[A\n",
      " 76%|███████▌  | 8938/11768 [00:08<00:02, 966.07it/s] \u001b[A\n",
      " 77%|███████▋  | 9036/11768 [00:08<00:02, 920.10it/s]\u001b[A\n",
      " 78%|███████▊  | 9151/11768 [00:09<00:02, 977.34it/s]\u001b[A\n",
      " 79%|███████▉  | 9278/11768 [00:09<00:02, 1048.67it/s]\u001b[A\n",
      " 80%|███████▉  | 9397/11768 [00:09<00:02, 1085.20it/s]\u001b[A\n",
      " 81%|████████  | 9508/11768 [00:09<00:02, 1076.90it/s]\u001b[A\n",
      " 82%|████████▏ | 9622/11768 [00:09<00:01, 1094.48it/s]\u001b[A\n",
      " 83%|████████▎ | 9742/11768 [00:09<00:01, 1123.34it/s]\u001b[A\n",
      " 84%|████████▍ | 9856/11768 [00:09<00:01, 1087.47it/s]\u001b[A\n",
      " 85%|████████▍ | 9966/11768 [00:09<00:01, 1051.08it/s]\u001b[A\n",
      " 86%|████████▌ | 10100/11768 [00:09<00:01, 1122.78it/s]\u001b[A\n",
      " 87%|████████▋ | 10230/11768 [00:09<00:01, 1169.30it/s]\u001b[A\n",
      " 88%|████████▊ | 10373/11768 [00:10<00:01, 1236.01it/s]\u001b[A\n",
      " 89%|████████▉ | 10499/11768 [00:10<00:01, 1212.52it/s]\u001b[A\n",
      " 90%|█████████ | 10623/11768 [00:10<00:00, 1178.72it/s]\u001b[A\n",
      " 91%|█████████▏| 10743/11768 [00:10<00:00, 1155.19it/s]\u001b[A\n",
      " 92%|█████████▏| 10860/11768 [00:10<00:00, 1152.52it/s]\u001b[A\n",
      " 93%|█████████▎| 10983/11768 [00:10<00:00, 1173.01it/s]\u001b[A\n",
      " 94%|█████████▍| 11110/11768 [00:10<00:00, 1199.37it/s]\u001b[A\n",
      " 95%|█████████▌| 11233/11768 [00:10<00:00, 1205.82it/s]\u001b[A\n",
      " 96%|█████████▋| 11355/11768 [00:10<00:00, 1187.81it/s]\u001b[A\n",
      " 98%|█████████▊| 11478/11768 [00:11<00:00, 1198.92it/s]\u001b[A\n",
      " 99%|█████████▊| 11601/11768 [00:11<00:00, 1204.09it/s]\u001b[A\n",
      "100%|██████████| 11768/11768 [00:11<00:00, 1046.39it/s]\u001b[A"
     ]
    },
    {
     "name": "stdout",
     "output_type": "stream",
     "text": [
      "Saving the dataset.\n",
      "motif extracted\n"
     ]
    },
    {
     "name": "stderr",
     "output_type": "stream",
     "text": [
      "\n"
     ]
    }
   ],
   "source": [
    "G = nx.barabasi_albert_graph(30, 3)\n",
    "m = MotifCounterMachine(G, 5)\n",
    "m.extract_features()"
   ]
  },
  {
   "cell_type": "code",
   "execution_count": 18,
   "metadata": {},
   "outputs": [
    {
     "data": {
      "image/png": "[encoded data removed]",
      "text/plain": [
       "<Figure size 432x288 with 1 Axes>"
      ]
     },
     "metadata": {},
     "output_type": "display_data"
    }
   ],
   "source": [
    "nx.draw(G, with_labels = True)"
   ]
  },
  {
   "cell_type": "code",
   "execution_count": 22,
   "metadata": {},
   "outputs": [
    {
     "name": "stderr",
     "output_type": "stream",
     "text": [
      "/Users/kexinhuang/torch-env/lib/python3.7/site-packages/sklearn/manifold/spectral_embedding_.py:235: UserWarning: Graph is not fully connected, spectral embedding may not work as expected.\n",
      "  warnings.warn(\"Graph is not fully connected, spectral embedding\"\n"
     ]
    },
    {
     "data": {
      "text/plain": [
       "array([1, 1, 2, 0, 2, 2, 1, 3, 2, 4, 3, 2, 1, 2, 3, 0, 4, 4, 3, 2, 1, 0,\n",
       "       3, 4, 0, 1, 4, 4, 1, 3])"
      ]
     },
     "execution_count": 22,
     "metadata": {},
     "output_type": "execute_result"
    }
   ],
   "source": [
    "from sklearn.cluster import SpectralClustering\n",
    "import numpy as np\n",
    "\n",
    "X = m.motifs.values\n",
    "clustering = SpectralClustering(n_clusters=5,\n",
    "         assign_labels=\"discretize\",\n",
    "         random_state=0).fit(X)\n",
    "clustering.labels_"
   ]
  },
  {
   "cell_type": "code",
   "execution_count": null,
   "metadata": {},
   "outputs": [],
   "source": []
  }
 ],
 "metadata": {
  "kernelspec": {
   "display_name": "Python 3",
   "language": "python",
   "name": "python3"
  },
  "language_info": {
   "codemirror_mode": {
    "name": "ipython",
    "version": 3
   },
   "file_extension": ".py",
   "mimetype": "text/x-python",
   "name": "python",
   "nbconvert_exporter": "python",
   "pygments_lexer": "ipython3",
   "version": "3.7.7"
  }
 },
 "nbformat": 4,
 "nbformat_minor": 2
}
