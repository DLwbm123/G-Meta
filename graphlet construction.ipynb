{
 "cells": [
  {
   "cell_type": "code",
   "execution_count": 12,
   "metadata": {},
   "outputs": [],
   "source": [
    "import networkx as nx\n",
    "import numpy as np\n",
    "from scipy.special import comb\n",
    "from itertools import combinations \n",
    "import networkx.algorithms.isomorphism as iso\n",
    "from tqdm import tqdm\n",
    "import matplotlib.pyplot as plt\n",
    "import dgl"
   ]
  },
  {
   "cell_type": "code",
   "execution_count": 18,
   "metadata": {
    "scrolled": false
   },
   "outputs": [],
   "source": [
    "def generate_graphlet(n):\n",
    "    non_iso_graph = []\n",
    "    non_iso_graph_adj = []\n",
    "    dgl_graph = []\n",
    "    for i in tqdm(range(n-1, int(comb(n, 2))+1)):\n",
    "    # for each of these possible # of edges\n",
    "        arr = np.array(range(int((n**2-n)/2)))\n",
    "        all_comb = list(combinations(arr, i)) \n",
    "        # all possible combination of edge positions \n",
    "        indices = np.triu_indices(n, 1)\n",
    "        for m in range(len(all_comb)):\n",
    "            # iterate over all these graphs\n",
    "            adj = np.zeros((n,n))\n",
    "            adj[indices[0][np.array(all_comb[m])], indices[1][np.array(all_comb[m])]] = 1\n",
    "            adj_temp = adj\n",
    "            adj = adj + adj.T\n",
    "            #print(adj)\n",
    "            if sum(np.sum(adj_temp, axis = 0) == 0) == 1:\n",
    "                #the graph has to be connected\n",
    "                new_graph = nx.from_numpy_matrix(adj)\n",
    "                if len(non_iso_graph) == 0:\n",
    "                    non_iso_graph.append(new_graph)\n",
    "                    non_iso_graph_adj.append(adj)\n",
    "                    S = dgl.DGLGraph()\n",
    "                    S.from_networkx(new_graph)\n",
    "                    dgl_graph.append(S)\n",
    "                else:\n",
    "                    is_iso = False\n",
    "                    for g in non_iso_graph:\n",
    "                        if iso.is_isomorphic(g, new_graph):\n",
    "                            #print('yes')\n",
    "                            is_iso = True\n",
    "                            break\n",
    "                    if not is_iso:\n",
    "                        # not isomorphic to any of the current graphs\n",
    "                        non_iso_graph.append(new_graph)\n",
    "                        non_iso_graph_adj.append(adj)\n",
    "                        \n",
    "                        S = dgl.DGLGraph()\n",
    "                        S.from_networkx(new_graph)\n",
    "                        dgl_graph.append(S)\n",
    "                        \n",
    "    \n",
    "    print('There are {} non-isomorphic graphs'.format(len(non_iso_graph)))\n",
    "    return dgl_graph\n",
    "#for i in range(len(non_iso_graph)):\n",
    "#    plt.figure(i+1)\n",
    "#    nx.draw(non_iso_graph[i], with_labels = True)"
   ]
  },
  {
   "cell_type": "code",
   "execution_count": 19,
   "metadata": {},
   "outputs": [
    {
     "name": "stderr",
     "output_type": "stream",
     "text": [
      "100%|██████████| 1/1 [00:00<00:00, 191.61it/s]\n",
      "100%|██████████| 2/2 [00:00<00:00, 694.19it/s]\n",
      "100%|██████████| 4/4 [00:00<00:00, 362.42it/s]\n",
      "100%|██████████| 7/7 [00:00<00:00, 34.96it/s]"
     ]
    },
    {
     "name": "stdout",
     "output_type": "stream",
     "text": [
      "There are 1 non-isomorphic graphs\n",
      "There are 2 non-isomorphic graphs\n",
      "There are 6 non-isomorphic graphs\n",
      "There are 21 non-isomorphic graphs\n"
     ]
    },
    {
     "name": "stderr",
     "output_type": "stream",
     "text": [
      "\n"
     ]
    }
   ],
   "source": [
    "graphs = []\n",
    "for i in range(1, 5):\n",
    "    graphs = graphs + generate_graphlet(i+1)"
   ]
  },
  {
   "cell_type": "code",
   "execution_count": 20,
   "metadata": {},
   "outputs": [
    {
     "data": {
      "text/plain": [
       "30"
      ]
     },
     "execution_count": 20,
     "metadata": {},
     "output_type": "execute_result"
    }
   ],
   "source": [
    "len(graphs)"
   ]
  },
  {
   "cell_type": "code",
   "execution_count": 22,
   "metadata": {},
   "outputs": [
    {
     "data": {
      "text/plain": [
       "137"
      ]
     },
     "execution_count": 22,
     "metadata": {},
     "output_type": "execute_result"
    }
   ],
   "source": [
    "(dgl.batch(graphs))"
   ]
  },
  {
   "cell_type": "code",
   "execution_count": null,
   "metadata": {},
   "outputs": [],
   "source": []
  }
 ],
 "metadata": {
  "kernelspec": {
   "display_name": "Python 3",
   "language": "python",
   "name": "python3"
  },
  "language_info": {
   "codemirror_mode": {
    "name": "ipython",
    "version": 3
   },
   "file_extension": ".py",
   "mimetype": "text/x-python",
   "name": "python",
   "nbconvert_exporter": "python",
   "pygments_lexer": "ipython3",
   "version": "3.7.6"
  }
 },
 "nbformat": 4,
 "nbformat_minor": 2
}
