{
 "cells": [
  {
   "cell_type": "code",
   "execution_count": 11,
   "metadata": {},
   "outputs": [
    {
     "name": "stdout",
     "output_type": "stream",
     "text": [
      "Train_Label_List [1, 3, 4, 6, 8, 9]: \n",
      "Test_Label_List [2, 7]: \n",
      "training query accuracy: tensor(0.8491, dtype=torch.float64)\n",
      "training query accuracy: tensor(0.4651, dtype=torch.float64)\n",
      "training query accuracy: tensor(0.5714, dtype=torch.float64)\n",
      "training query accuracy: tensor(0.5536, dtype=torch.float64)\n",
      "training query accuracy: tensor(0.5238, dtype=torch.float64)\n",
      "training query accuracy: tensor(0.5000, dtype=torch.float64)\n",
      "training query accuracy: tensor(0.8636, dtype=torch.float64)\n",
      "training query accuracy: tensor(0.9245, dtype=torch.float64)\n",
      "training query accuracy: tensor(0.8302, dtype=torch.float64)\n",
      "training query accuracy: tensor(0.3750, dtype=torch.float64)\n",
      "training query accuracy: tensor(0.7692, dtype=torch.float64)\n",
      "training query accuracy: tensor(0.5625, dtype=torch.float64)\n",
      "training query accuracy: tensor(0.8235, dtype=torch.float64)\n",
      "training query accuracy: tensor(0.8421, dtype=torch.float64)\n",
      "training query accuracy: tensor(0.9091, dtype=torch.float64)\n",
      "training query accuracy: tensor(0.6207, dtype=torch.float64)\n",
      "training query accuracy: tensor(0.7674, dtype=torch.float64)\n",
      "training query accuracy: tensor(0.6765, dtype=torch.float64)\n",
      "training query accuracy: tensor(0.5227, dtype=torch.float64)\n",
      "training query accuracy: tensor(0.8276, dtype=torch.float64)\n",
      "training query accuracy: tensor(0.7895, dtype=torch.float64)\n",
      "training query accuracy: tensor(0.8462, dtype=torch.float64)\n",
      "training query accuracy: tensor(0.6977, dtype=torch.float64)\n",
      "training query accuracy: tensor(0.4340, dtype=torch.float64)\n",
      "training query accuracy: tensor(0.5625, dtype=torch.float64)\n",
      "training query accuracy: tensor(0.5625, dtype=torch.float64)\n",
      "training query accuracy: tensor(0.7059, dtype=torch.float64)\n",
      "training query accuracy: tensor(0.6190, dtype=torch.float64)\n",
      "training query accuracy: tensor(0.9310, dtype=torch.float64)\n",
      "training query accuracy: tensor(0.9091, dtype=torch.float64)\n",
      "training query accuracy: tensor(0.8788, dtype=torch.float64)\n",
      "training query accuracy: tensor(0.6500, dtype=torch.float64)\n",
      "training query accuracy: tensor(0.3750, dtype=torch.float64)\n",
      "training query accuracy: tensor(0.6379, dtype=torch.float64)\n",
      "training query accuracy: tensor(0.9655, dtype=torch.float64)\n",
      "training query accuracy: tensor(0.9394, dtype=torch.float64)\n",
      "training query accuracy: tensor(0.5714, dtype=torch.float64)\n",
      "training query accuracy: tensor(0.5517, dtype=torch.float64)\n",
      "training query accuracy: tensor(0.5000, dtype=torch.float64)\n",
      "training query accuracy: tensor(0.4375, dtype=torch.float64)\n",
      "training query accuracy: tensor(0.3621, dtype=torch.float64)\n",
      "training query accuracy: tensor(0.4828, dtype=torch.float64)\n",
      "training query accuracy: tensor(0.9655, dtype=torch.float64)\n",
      "training query accuracy: tensor(0.7353, dtype=torch.float64)\n",
      "training query accuracy: tensor(0.7879, dtype=torch.float64)\n",
      "training query accuracy: tensor(0.8036, dtype=torch.float64)\n",
      "training query accuracy: tensor(0.5714, dtype=torch.float64)\n",
      "training query accuracy: tensor(0.6176, dtype=torch.float64)\n",
      "training query accuracy: tensor(0.8718, dtype=torch.float64)\n",
      "training query accuracy: tensor(0.7353, dtype=torch.float64)\n",
      "testing accuracy:  0.547\n"
     ]
    }
   ],
   "source": [
    "!python citation.py --data_dir '../../data/single_graph/BA/META_SETUP_LABEL/' --fold_n 1"
   ]
  },
  {
   "cell_type": "code",
   "execution_count": null,
   "metadata": {},
   "outputs": [],
   "source": []
  }
 ],
 "metadata": {
  "kernelspec": {
   "display_name": "Python 3",
   "language": "python",
   "name": "python3"
  },
  "language_info": {
   "codemirror_mode": {
    "name": "ipython",
    "version": 3
   },
   "file_extension": ".py",
   "mimetype": "text/x-python",
   "name": "python",
   "nbconvert_exporter": "python",
   "pygments_lexer": "ipython3",
   "version": "3.7.7"
  }
 },
 "nbformat": 4,
 "nbformat_minor": 4
}
