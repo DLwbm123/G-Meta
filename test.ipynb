{
 "cells": [
  {
   "cell_type": "code",
   "execution_count": 8,
   "metadata": {},
   "outputs": [
    {
     "name": "stdout",
     "output_type": "stream",
     "text": [
      "Using backend: pytorch\n",
      "Namespace(attention_size=32, batchsz=10000, data_dir='/n/scratch3/users/k/kh278/G-Meta_Data/arxiv/', epoch=1, h=2, hidden_dim=128, input_dim=1, k_qry=24, k_spt=3, link_pred_mode='False', meta_lr=0.001, method='G-Meta', n_way=3, no_finetune=True, num_workers=0, sample_nodes=1000, task_mode='False', task_n=1, task_num=32, task_setup='Disjoint', train_result_report_steps=100, update_lr=0.01, update_step=5, update_step_test=20, val_result_report_steps=100)\n",
      "There are 40 classes \n",
      "Meta(\n",
      "  (net): Classifier(\n",
      "    (vars): ParameterList(\n",
      "        (0): Parameter containing: [torch.cuda.FloatTensor of size 128x128 (GPU 0)]\n",
      "        (1): Parameter containing: [torch.cuda.FloatTensor of size 128 (GPU 0)]\n",
      "        (2): Parameter containing: [torch.cuda.FloatTensor of size 128x128 (GPU 0)]\n",
      "        (3): Parameter containing: [torch.cuda.FloatTensor of size 128 (GPU 0)]\n",
      "        (4): Parameter containing: [torch.cuda.FloatTensor of size 3x128 (GPU 0)]\n",
      "        (5): Parameter containing: [torch.cuda.FloatTensor of size 3 (GPU 0)]\n",
      "    )\n",
      "  )\n",
      ")\n",
      "Total trainable tensors: 33411\n",
      "shuffle DB :train, b:10000, 3-way, 3-shot, 24-query, 2-hops\n",
      "shuffle DB :val, b:100, 3-way, 3-shot, 24-query, 2-hops\n",
      "shuffle DB :test, b:100, 3-way, 3-shot, 24-query, 2-hops\n",
      "------ Start Training ------\n",
      "Epoch: 1  Step: 0  training acc: 0.342  time elapsed: 2.512  data loading takes: 2.084  Memory usage: 24.85\n",
      "Epoch: 1  Step: 100  training acc: 0.459  time elapsed: 1.368  data loading takes: 0.482  Memory usage: 26.18\n",
      "Epoch: 1  Step: 200  training acc: 0.488  time elapsed: 1.358  data loading takes: 0.341  Memory usage: 25.32\n",
      "Epoch: 1  Step: 300  training acc: 0.487  time elapsed: 1.349  data loading takes: 0.275  Memory usage: 25.47\n",
      "Epoch: 1  Val acc: 0.447\n",
      "Test acc: 0.433\n",
      "Early Stopped Test acc: 0.438\n",
      "Total Time: 651.7\n",
      "Max Momory: 26.55\n"
     ]
    }
   ],
   "source": [
    "!python G-Meta/train.py --data_dir /n/scratch3/users/k/kh278/G-Meta_Data/arxiv/ \\\n",
    "                            --epoch 5 \\\n",
    "                            --task_setup Disjoint \\\n",
    "                            --k_spt 3 \\\n",
    "                            --k_qry 24 \\\n",
    "                            --n_way 3 \\\n",
    "                            --update_lr 0.01 \\\n",
    "                            --num_workers 0 \\\n",
    "                            --train_result_report_steps 100 \\\n",
    "                            --hidden_dim 128 \\\n",
    "                            --update_step_test 20 \\\n",
    "                            --task_num 32 \\\n",
    "                            --batchsz 10000 "
   ]
  },
  {
   "cell_type": "code",
   "execution_count": 11,
   "metadata": {},
   "outputs": [
    {
     "name": "stdout",
     "output_type": "stream",
     "text": [
      "Using backend: pytorch\n",
      "Namespace(attention_size=32, batchsz=1000, data_dir='/n/scratch3/users/k/kh278/G-Meta_Data/tissue_PPI/', epoch=1, h=2, hidden_dim=128, input_dim=1, k_qry=10, k_spt=5, link_pred_mode='False', meta_lr=0.003, method='G-Meta', n_way=3, no_finetune=True, num_workers=0, sample_nodes=1000, task_mode='True', task_n=2, task_num=4, task_setup='Shared', train_result_report_steps=30, update_lr=0.01, update_step=5, update_step_test=10, val_result_report_steps=200)\n",
      "There are 2 classes \n",
      "Meta(\n",
      "  (net): Classifier(\n",
      "    (vars): ParameterList(\n",
      "        (0): Parameter containing: [torch.cuda.FloatTensor of size 50x128 (GPU 0)]\n",
      "        (1): Parameter containing: [torch.cuda.FloatTensor of size 128 (GPU 0)]\n",
      "        (2): Parameter containing: [torch.cuda.FloatTensor of size 128x128 (GPU 0)]\n",
      "        (3): Parameter containing: [torch.cuda.FloatTensor of size 128 (GPU 0)]\n",
      "        (4): Parameter containing: [torch.cuda.FloatTensor of size 2x128 (GPU 0)]\n",
      "        (5): Parameter containing: [torch.cuda.FloatTensor of size 2 (GPU 0)]\n",
      "    )\n",
      "  )\n",
      ")\n",
      "Total trainable tensors: 23298\n",
      "shuffle DB :train, b:1000, 3-way, 5-shot, 10-query, 2-hops\n",
      "shuffle DB :val, b:100, 3-way, 5-shot, 10-query, 2-hops\n",
      "shuffle DB :test, b:100, 3-way, 5-shot, 10-query, 2-hops\n",
      "------ Start Training ------\n",
      "Epoch: 1  Step: 0  training acc: 0.425  time elapsed: 0.913  data loading takes: 1.602  Memory usage: 24.33\n",
      "Epoch: 1  Step: 30  training acc: 0.6  time elapsed: 0.243  data loading takes: 1.455  Memory usage: 28.80\n",
      "Epoch: 1  Step: 60  training acc: 0.587  time elapsed: 0.269  data loading takes: 1.692  Memory usage: 31.58\n",
      "Epoch: 1  Step: 90  training acc: 0.575  time elapsed: 0.251  data loading takes: 1.137  Memory usage: 36.32\n",
      "Epoch: 1  Step: 120  training acc: 0.537  time elapsed: 0.257  data loading takes: 1.520  Memory usage: 39.73\n",
      "Epoch: 1  Step: 150  training acc: 0.537  time elapsed: 0.249  data loading takes: 1.553  Memory usage: 42.91\n",
      "Epoch: 1  Step: 180  training acc: 0.662  time elapsed: 0.253  data loading takes: 1.374  Memory usage: 45.43\n",
      "Epoch: 1  Step: 210  training acc: 0.612  time elapsed: 0.256  data loading takes: 1.194  Memory usage: 48.12\n",
      "Epoch: 1  Step: 240  training acc: 0.525  time elapsed: 0.240  data loading takes: 0.924  Memory usage: 50.45\n",
      "Epoch: 1  Val acc: 0.568\n",
      "Test acc: 0.578\n",
      "Early Stopped Test acc: 0.578\n",
      "Total Time: 482.1\n",
      "Max Momory: 51.07\n"
     ]
    }
   ],
   "source": [
    "!python G-Meta/train.py --data_dir /n/scratch3/users/k/kh278/G-Meta_Data/tissue_PPI/ \\\n",
    "                            --epoch 5 \\\n",
    "                            --task_setup Shared \\\n",
    "                            --task_mode True \\\n",
    "                            --task_n 2 \\\n",
    "                            --k_qry 10 \\\n",
    "                            --k_spt 5 \\\n",
    "                            --update_lr 0.01 \\\n",
    "                            --meta_lr 3e-3 \\\n",
    "                            --num_workers 0 \\\n",
    "                            --train_result_report_steps 100 \\\n",
    "                            --hidden_dim 128 \\\n",
    "                            --task_num 4 \\\n",
    "                            --batchsz 1000"
   ]
  },
  {
   "cell_type": "code",
   "execution_count": null,
   "metadata": {},
   "outputs": [
    {
     "name": "stdout",
     "output_type": "stream",
     "text": [
      "Using backend: pytorch\n",
      "Namespace(attention_size=32, batchsz=4000, data_dir='/n/scratch3/users/k/kh278/G-Meta_Data/fold_PPI/', epoch=1, h=2, hidden_dim=128, input_dim=1, k_qry=24, k_spt=3, link_pred_mode='False', meta_lr=0.001, method='G-Meta', n_way=3, no_finetune=True, num_workers=0, sample_nodes=1000, task_mode='False', task_n=1, task_num=16, task_setup='Disjoint', train_result_report_steps=100, update_lr=0.005, update_step=5, update_step_test=20, val_result_report_steps=100)\n",
      "There are 30 classes \n",
      "Meta(\n",
      "  (net): Classifier(\n",
      "    (vars): ParameterList(\n",
      "        (0): Parameter containing: [torch.cuda.FloatTensor of size 512x128 (GPU 0)]\n",
      "        (1): Parameter containing: [torch.cuda.FloatTensor of size 128 (GPU 0)]\n",
      "        (2): Parameter containing: [torch.cuda.FloatTensor of size 128x128 (GPU 0)]\n",
      "        (3): Parameter containing: [torch.cuda.FloatTensor of size 128 (GPU 0)]\n",
      "        (4): Parameter containing: [torch.cuda.FloatTensor of size 3x128 (GPU 0)]\n",
      "        (5): Parameter containing: [torch.cuda.FloatTensor of size 3 (GPU 0)]\n",
      "    )\n",
      "  )\n",
      ")\n",
      "Total trainable tensors: 82563\n",
      "shuffle DB :train, b:4000, 3-way, 3-shot, 24-query, 2-hops\n",
      "shuffle DB :val, b:100, 3-way, 3-shot, 24-query, 2-hops\n",
      "shuffle DB :test, b:100, 3-way, 3-shot, 24-query, 2-hops\n",
      "------ Start Training ------\n",
      "Epoch: 1  Step: 0  training acc: 0.427  time elapsed: 3.720  data loading takes: 6.710  Memory usage: 27.04\n"
     ]
    }
   ],
   "source": [
    "!python G-Meta/train.py --data_dir /n/scratch3/users/k/kh278/G-Meta_Data/fold_PPI/ \\\n",
    "                            --epoch 5 \\\n",
    "                            --task_setup Disjoint \\\n",
    "                            --k_qry 24 \\\n",
    "                            --k_spt 3 \\\n",
    "                            --n_way 3 \\\n",
    "                            --update_lr 0.005 \\\n",
    "                            --meta_lr 1e-3 \\\n",
    "                            --num_workers 0 \\\n",
    "                            --train_result_report_steps 100 \\\n",
    "                            --hidden_dim 128 \\\n",
    "                            --update_step_test 20 \\\n",
    "                            --task_num 16 \\\n",
    "                            --batchsz 4000"
   ]
  },
  {
   "cell_type": "code",
   "execution_count": null,
   "metadata": {},
   "outputs": [],
   "source": [
    "!python G-Meta/train.py --data_dir /n/scratch3/users/k/kh278/G-Meta_Data/FirstMM_DB/ \\\n",
    "                            --epoch 1 \\\n",
    "                            --task_setup Shared \\\n",
    "                            --k_qry 32 \\\n",
    "                            --k_spt 16 \\\n",
    "                            --n_way 2 \\\n",
    "                            --update_lr 0.01 \\\n",
    "                            --update_step 10 \\\n",
    "                            --meta_lr 5e-4 \\\n",
    "                            --num_workers 0 \\\n",
    "                            --train_result_report_steps 10 \\\n",
    "                            --val_result_report_steps 100 \\\n",
    "                            --hidden_dim 128 \\\n",
    "                            --update_step_test 20 \\\n",
    "                            --task_num 8 \\\n",
    "                            --batchsz 1000 \\\n",
    "                            --link_pred_mod True"
   ]
  },
  {
   "cell_type": "code",
   "execution_count": null,
   "metadata": {},
   "outputs": [],
   "source": [
    "!python train.py --data_dir /n/scratch3/users/k/kh278/G-Meta_Data/tree-of-life/ \\\n",
    "                            --epoch 1 \\\n",
    "                            --task_setup Shared \\\n",
    "                            --k_qry 16 \\\n",
    "                            --k_spt 16 \\\n",
    "                            --n_way 2 \\\n",
    "                            --update_lr 0.005 \\\n",
    "                            --update_step 10 \\\n",
    "                            --meta_lr 5e-4 \\\n",
    "                            --num_workers 0 \\\n",
    "                            --train_result_report_steps 30 \\\n",
    "                            --val_result_report_steps 100 \\\n",
    "                            --hidden_dim 128 \\\n",
    "                            --update_step_test 20 \\\n",
    "                            --task_num 8 \\\n",
    "                            --batchsz 5000 \\\n",
    "                            --link_pred_mod True"
   ]
  }
 ],
 "metadata": {
  "kernelspec": {
   "display_name": "Python 3",
   "language": "python",
   "name": "python3"
  },
  "language_info": {
   "codemirror_mode": {
    "name": "ipython",
    "version": 3
   },
   "file_extension": ".py",
   "mimetype": "text/x-python",
   "name": "python",
   "nbconvert_exporter": "python",
   "pygments_lexer": "ipython3",
   "version": "3.7.4"
  }
 },
 "nbformat": 4,
 "nbformat_minor": 4
}
